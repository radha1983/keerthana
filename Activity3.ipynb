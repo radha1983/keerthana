{
  "nbformat": 4,
  "nbformat_minor": 0,
  "metadata": {
    "colab": {
      "provenance": []
    },
    "kernelspec": {
      "name": "python3",
      "display_name": "Python 3"
    },
    "language_info": {
      "name": "python"
    }
  },
  "cells": [
    {
      "cell_type": "code",
      "source": [
        "#1. Using input() function take one number from the user and using ternary operators check whether the number is even or odd\n",
        "\n",
        "number = int(input(\"Enter a number: \"))\n",
        "\n",
        "result = \"Even\" if number % 2 == 0 else \"Odd\"\n",
        "\n",
        "\n",
        "print(f\"The number {number} is {result}.\")"
      ],
      "metadata": {
        "colab": {
          "base_uri": "https://localhost:8080/"
        },
        "id": "17vAfYhdmNUF",
        "outputId": "821904e4-ed35-45b4-f028-e7490c23183c"
      },
      "execution_count": 1,
      "outputs": [
        {
          "output_type": "stream",
          "name": "stdout",
          "text": [
            "Enter a number: 66\n",
            "The number 66 is Even.\n"
          ]
        }
      ]
    },
    {
      "cell_type": "code",
      "source": [
        "#2. Using input function take two number and then swap the number\n",
        "\n",
        "# Get input for the two numbers\n",
        "num1 = int(input(\"Enter the first number: \"))\n",
        "num2 = int(input(\"Enter the second number: \"))\n",
        "\n",
        "# Print the  numbers\n",
        "print(\"BEFORE SWAPPING\")\n",
        "print(\"First number:\", num1)\n",
        "print(\"Second number:\", num2)\n",
        "# Swap the numbers\n",
        "num1, num2 = num2, num1\n",
        "\n",
        "# Print the swapped numbers\n",
        "print(\"AFTER SWAPPING:\")\n",
        "print(\"First number:\", num1)\n",
        "print(\"Second number:\", num2)"
      ],
      "metadata": {
        "colab": {
          "base_uri": "https://localhost:8080/"
        },
        "id": "MmeD6GHQmZtS",
        "outputId": "51196cf5-e54d-4094-bbdb-6e67fcf919ac"
      },
      "execution_count": 4,
      "outputs": [
        {
          "output_type": "stream",
          "name": "stdout",
          "text": [
            "Enter the first number: 23\n",
            "Enter the second number: 4\n",
            "BEFORE SWAPPING\n",
            "First number: 23\n",
            "Second number: 4\n",
            "\n",
            "\n",
            "AFTER SWAPPING:\n",
            "First number: 4\n",
            "Second number: 23\n"
          ]
        }
      ]
    },
    {
      "cell_type": "code",
      "source": [
        "#3. Write a Program to Convert Kilometers to Miles\n",
        "# Get the distance in kilometers from the user\n",
        "kilometers = float(input(\"Enter distance in kilometers: \"))\n",
        "\n",
        "# Conversion factor\n",
        "conversion_factor = 0.621371\n",
        "\n",
        "# Calculate miles\n",
        "miles = kilometers * conversion_factor\n",
        "\n",
        "# Print the result\n",
        "print(f\"{kilometers} kilometers is equal to {miles} miles\")\n"
      ],
      "metadata": {
        "colab": {
          "base_uri": "https://localhost:8080/"
        },
        "id": "X3rEhKoonC_M",
        "outputId": "035232eb-b847-4796-8177-d0ba7abc9e9d"
      },
      "execution_count": 5,
      "outputs": [
        {
          "output_type": "stream",
          "name": "stdout",
          "text": [
            "Enter distance in kilometers: 56\n",
            "56.0 kilometers is equal to 34.796776 miles\n"
          ]
        }
      ]
    },
    {
      "cell_type": "code",
      "source": [
        "#4. Find the Simple Interest on Rs. 200 for 5 years at 5% per year.\n",
        "\n",
        "# Input values\n",
        "principal = 200  # Principal amount in Rs.\n",
        "rate = 5  # Rate of interest per year in percentage\n",
        "time = 5  # Time period in years\n",
        "\n",
        "# Calculate simple interest\n",
        "simple_interest = (principal * rate * time) / 100\n",
        "\n",
        "# Print the result\n",
        "print(f\"The simple interest is: Rs. {simple_interest}\")"
      ],
      "metadata": {
        "colab": {
          "base_uri": "https://localhost:8080/"
        },
        "id": "y8-8n3w3oHaU",
        "outputId": "a148eef9-eca0-45ac-88b8-6da1b7dfa422"
      },
      "execution_count": 7,
      "outputs": [
        {
          "output_type": "stream",
          "name": "stdout",
          "text": [
            "The simple interest is: Rs. 50.0\n"
          ]
        }
      ]
    },
    {
      "cell_type": "code",
      "source": [],
      "metadata": {
        "id": "FMm8sEuYoVUn"
      },
      "execution_count": null,
      "outputs": []
    }
  ]
}