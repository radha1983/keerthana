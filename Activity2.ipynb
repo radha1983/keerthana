{
  "nbformat": 4,
  "nbformat_minor": 0,
  "metadata": {
    "colab": {
      "provenance": []
    },
    "kernelspec": {
      "name": "python3",
      "display_name": "Python 3"
    },
    "language_info": {
      "name": "python"
    }
  },
  "cells": [
    {
      "cell_type": "markdown",
      "source": [
        "1.Write a function is_palindrome(s) that returns True if the input string s is a palindrome (reads the same forward and backward) and False otherwise.\n",
        "\"madam\"     # Output: True\n",
        "\"hello\"   # Output: False\n",
        "\"racecar\"   # Output: True"
      ],
      "metadata": {
        "id": "k5e2Vs9AV0K4"
      }
    },
    {
      "cell_type": "code",
      "source": [
        "def is_palindrome(s):\n",
        "    \"\"\"\n",
        "    This function checks if a string is a palindrome.\n",
        "\n",
        "    Args:\n",
        "        s: The string to check.\n",
        "\n",
        "    Returns:\n",
        "        True if the string is a palindrome, False otherwise.\n",
        "    \"\"\"\n",
        "    s = s.lower()  # Convert to lowercase for case-insensitive comparison\n",
        "    return s == s[::-1]  # Compare the string to its reverse\n",
        "\n",
        "# Test cases\n",
        "words = [\"madam\", \"hello\", \"racecar\"]\n",
        "\n",
        "for word in words:\n",
        "    if is_palindrome(word):\n",
        "        print(f\"{word} is a palindrome.\")\n",
        "    else:\n",
        "        print(f\"{word} is not a palindrome.\")"
      ],
      "metadata": {
        "colab": {
          "base_uri": "https://localhost:8080/"
        },
        "id": "yfuSqXviV440",
        "outputId": "6c970a56-ab0c-4a54-9423-5ac9da6ff2db"
      },
      "execution_count": 6,
      "outputs": [
        {
          "output_type": "stream",
          "name": "stdout",
          "text": [
            "madam is a palindrome.\n",
            "hello is not a palindrome.\n",
            "racecar is a palindrome.\n"
          ]
        }
      ]
    },
    {
      "cell_type": "markdown",
      "source": [
        "2.Write a function find_largest(lst) that takes a list of numbers and returns the largest number.\n",
        "numbers = [10, 20, 5, 8, 25, 3]"
      ],
      "metadata": {
        "id": "rb6CYyKJWuDN"
      }
    },
    {
      "cell_type": "code",
      "source": [
        "def find_largest(lst):\n",
        "    \"\"\"\n",
        "    This function finds the largest number in a list.\n",
        "\n",
        "    Args:\n",
        "        lst: The list of numbers.\n",
        "\n",
        "    Returns:\n",
        "        The largest number in the list.\n",
        "    \"\"\"\n",
        "    if not lst:  # Check if the list is empty\n",
        "        return None  # Return None if the list is empty\n",
        "\n",
        "    largest = lst[0]  # Assume the first element is the largest initially\n",
        "\n",
        "\n",
        "    for number in lst:\n",
        "        if number > largest:\n",
        "            largest = number  # Update largest if a bigger number is found\n",
        "\n",
        "    return largest  # Return the largest number\n",
        "\n",
        "# Example usage\n",
        "numbers = [10, 20, 5, 8, 25, 3]\n",
        "largest_number = find_largest(numbers)\n",
        "print(f\"The largest number is: {largest_number}\")"
      ],
      "metadata": {
        "colab": {
          "base_uri": "https://localhost:8080/"
        },
        "id": "5cG2LsaaWvs5",
        "outputId": "e8f2b276-0942-4e8b-cfe5-ee1182d6d5b7"
      },
      "execution_count": 5,
      "outputs": [
        {
          "output_type": "stream",
          "name": "stdout",
          "text": [
            "The largest number is: 25\n"
          ]
        }
      ]
    },
    {
      "cell_type": "markdown",
      "source": [
        "3.Write a function count_vowels(s) that returns the number of vowels (a, e, i, o, u) in the given string.\n",
        "(\"Hello World\"))   # Output: 3\n",
        "(\"Python\"))        # Output: 1\n",
        "(\"Beautiful Day\")) # Output: 6"
      ],
      "metadata": {
        "id": "J6wdOcSBXITr"
      }
    },
    {
      "cell_type": "code",
      "source": [
        "def count_vowels(s):\n",
        "    \"\"\"\n",
        "    Counts the number of vowels (a, e, i, o, u) in a string.\n",
        "\n",
        "    Args:\n",
        "        s: The string to count vowels in.\n",
        "\n",
        "    Returns:\n",
        "        The number of vowels in the string.\n",
        "    \"\"\"\n",
        "    vowels = \"aeiouAEIOU\"  # Define a string containing all vowels (uppercase and lowercase)\n",
        "    count = 0  # Initialize a counter for vowels\n",
        "    for char in s:  # Iterate through each character in the string\n",
        "        if char in vowels:  # Check if the current character is a vowel\n",
        "            count += 1  # If it's a vowel, increment the counter\n",
        "    return count  # Return the total count of vowels\n",
        "\n",
        "# Example usage\n",
        "print(count_vowels(\"Hello World\"))\n",
        "print(count_vowels(\"Python\"))\n",
        "print(count_vowels(\"Beautiful Day\"))"
      ],
      "metadata": {
        "colab": {
          "base_uri": "https://localhost:8080/"
        },
        "id": "LqTEtHRVXNYN",
        "outputId": "c2f5cf8a-73f3-42eb-eec3-62bef8682614"
      },
      "execution_count": 4,
      "outputs": [
        {
          "output_type": "stream",
          "name": "stdout",
          "text": [
            "3\n",
            "1\n",
            "6\n"
          ]
        }
      ]
    },
    {
      "cell_type": "code",
      "source": [],
      "metadata": {
        "id": "Xr6I9fAuYS2m"
      },
      "execution_count": null,
      "outputs": []
    }
  ]
}