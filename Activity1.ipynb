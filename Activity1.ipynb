{
  "cells": [
    {
      "cell_type": "code",
      "execution_count": null,
      "metadata": {
        "colab": {
          "base_uri": "https://localhost:8080/"
        },
        "id": "sVC_StLEE4at",
        "outputId": "6c0e73cc-cd43-4f98-a65d-10bde94c9dae"
      },
      "outputs": [
        {
          "name": "stdout",
          "output_type": "stream",
          "text": [
            "1..Calculate the multiplication and sum of two numbers\n",
            "Enter the First Number: 23\n",
            "Enter the Second Number: 45\n",
            "The Product of two numbers are : 1035\n",
            "The Sum of two numbers are: 68\n"
          ]
        }
      ],
      "source": [
        "print('1..Calculate the multiplication and sum of two numbers')\n",
        "n1=int(input(\"Enter the First Number: \"))\n",
        "n2=int(input(\"Enter the Second Number: \"))\n",
        "pro=n1*n2\n",
        "sum=n1+n2\n",
        "print(f\"The Product of two numbers are : {pro}\")\n",
        "print(f\"The Sum of two numbers are: {sum}\")"
      ]
    },
    {
      "cell_type": "code",
      "execution_count": null,
      "metadata": {
        "colab": {
          "base_uri": "https://localhost:8080/"
        },
        "id": "ytMI6OINNnAQ",
        "outputId": "5c20fe90-8752-4b31-a24e-3de3dfe4ea94"
      },
      "outputs": [
        {
          "name": "stdout",
          "output_type": "stream",
          "text": [
            "2..Finding largest  number using ternary operators\n",
            "Enter the First Number: 56432\n",
            "Enter the Second Number: 560068\n",
            "The Largest of two numbers are: 560068\n"
          ]
        }
      ],
      "source": [
        "print(\"2..Finding largest  number using ternary operators\")\n",
        "n1=int(input(\"Enter the First Number: \"))\n",
        "n2=int(input(\"Enter the Second Number: \"))\n",
        "res=n1 if n1>n2 else n2\n",
        "print(f\"The Largest of two numbers are: {res}\")\n"
      ]
    },
    {
      "cell_type": "code",
      "execution_count": 1,
      "metadata": {
        "colab": {
          "base_uri": "https://localhost:8080/"
        },
        "id": "EFa_0UQ5OIT8",
        "outputId": "1ebd8864-8095-4a1c-8997-8476e31de928"
      },
      "outputs": [
        {
          "output_type": "stream",
          "name": "stdout",
          "text": [
            "3..The user (name, age, and city) and print it in a formatted string\n",
            "Enter your name: keer\n",
            "Enter your age: 34\n",
            "Enter your city: erget\n",
            "Hello, My name is keer, I am 34 years old and I belong to erget city\n"
          ]
        }
      ],
      "source": [
        "print(\"3..The user (name, age, and city) and print it in a formatted string\")\n",
        "name=input(\"Enter your name: \")\n",
        "age=int(input(\"Enter your age: \"))\n",
        "city=input(\"Enter your city: \")\n",
        "print(f\"Hello, My name is {name}, I am {age} years old and I belong to {city} city\")\n"
      ]
    },
    {
      "cell_type": "code",
      "execution_count": 2,
      "metadata": {
        "id": "lgvLGTOjOKmC",
        "colab": {
          "base_uri": "https://localhost:8080/"
        },
        "outputId": "24991e5f-9d3c-4339-a8af-2435119510a2"
      },
      "outputs": [
        {
          "output_type": "stream",
          "name": "stdout",
          "text": [
            "4..The area of a triangle whose sides are given\n",
            "Enter the base  of triangle : 34\n",
            "Enter the height of triangle: 4\n",
            "The Area of the triangle is :  68.0  sq units\n"
          ]
        }
      ],
      "source": [
        "print(\"4..The area of a triangle whose sides are given\")\n",
        "base=int(input(\"Enter the base  of triangle : \"))\n",
        "height=int(input(\"Enter the height of triangle: \"))\n",
        "area=1/2*base*height\n",
        "print(\"The Area of the triangle is : \",area,\" sq units\")"
      ]
    },
    {
      "cell_type": "code",
      "execution_count": 3,
      "metadata": {
        "id": "uCmr34aoOUR4",
        "colab": {
          "base_uri": "https://localhost:8080/"
        },
        "outputId": "1147c638-1739-42a4-d9f1-217c0749e498"
      },
      "outputs": [
        {
          "output_type": "stream",
          "name": "stdout",
          "text": [
            "5..To check whether a number is even or odd\n",
            "Enter the number : 56\n",
            "The 56 is even number\n"
          ]
        }
      ],
      "source": [
        "print(\"5..To check whether a number is even or odd\")\n",
        "num=int(input(\"Enter the number : \"))\n",
        "if num%2==0:\n",
        "    print(f\"The {num} is even number\")\n",
        "else:\n",
        "     print(f\"The {num} is odd number\")"
      ]
    },
    {
      "cell_type": "code",
      "execution_count": 4,
      "metadata": {
        "id": "vorIRqZlOZiI",
        "colab": {
          "base_uri": "https://localhost:8080/"
        },
        "outputId": "590e2c86-9d2b-440b-83e6-151d817ca485"
      },
      "outputs": [
        {
          "output_type": "stream",
          "name": "stdout",
          "text": [
            "6..Find the square and cube of a given number.\n",
            "Enter the number : 45\n",
            "The Square root of two numbers are : 2025\n",
            "The Cube Root of two numbers are: 91125\n"
          ]
        }
      ],
      "source": [
        "print(\"6..Find the square and cube of a given number.\")\n",
        "num=int(input(\"Enter the number : \"))\n",
        "sq=num*num\n",
        "cube=num*num*num\n",
        "print(f\"The Square root of two numbers are : {sq}\")\n",
        "print(f\"The Cube Root of two numbers are: {cube}\")"
      ]
    },
    {
      "cell_type": "code",
      "source": [],
      "metadata": {
        "id": "kTHUMcc_aCiW"
      },
      "execution_count": null,
      "outputs": []
    }
  ],
  "metadata": {
    "colab": {
      "provenance": []
    },
    "kernelspec": {
      "display_name": "Python 3",
      "name": "python3"
    },
    "language_info": {
      "name": "python"
    }
  },
  "nbformat": 4,
  "nbformat_minor": 0
}